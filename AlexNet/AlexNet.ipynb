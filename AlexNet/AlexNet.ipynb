{
 "cells": [
  {
   "cell_type": "code",
   "execution_count": 3,
   "metadata": {},
   "outputs": [],
   "source": [
    "import torch\n",
    "import torch.nn as nn\n",
    "from torchsummary import summary"
   ]
  },
  {
   "cell_type": "markdown",
   "metadata": {},
   "source": [
    "## Alexnet input image size - 3 x 227 x 227"
   ]
  },
  {
   "cell_type": "code",
   "execution_count": 4,
   "metadata": {},
   "outputs": [
    {
     "data": {
      "text/plain": [
       "Alexnet(\n",
       "  (conv_layer1): Sequential(\n",
       "    (0): Conv2d(3, 96, kernel_size=(11, 11), stride=(4, 4))\n",
       "    (1): LeakyReLU(negative_slope=0.1)\n",
       "    (2): MaxPool2d(kernel_size=(3, 3), stride=2, padding=0, dilation=1, ceil_mode=False)\n",
       "    (3): BatchNorm2d(96, eps=1e-05, momentum=0.1, affine=True, track_running_stats=True)\n",
       "  )\n",
       "  (conv_layer2): Sequential(\n",
       "    (0): Conv2d(96, 256, kernel_size=(5, 5), stride=(1, 1), padding=(2, 2))\n",
       "    (1): LeakyReLU(negative_slope=0.1)\n",
       "    (2): MaxPool2d(kernel_size=(3, 3), stride=2, padding=0, dilation=1, ceil_mode=False)\n",
       "    (3): BatchNorm2d(256, eps=1e-05, momentum=0.1, affine=True, track_running_stats=True)\n",
       "  )\n",
       "  (conv_layer3): Sequential(\n",
       "    (0): Conv2d(256, 384, kernel_size=(3, 3), stride=(1, 1), padding=(1, 1))\n",
       "    (1): LeakyReLU(negative_slope=0.1)\n",
       "  )\n",
       "  (conv_layer4): Sequential(\n",
       "    (0): Conv2d(384, 384, kernel_size=(3, 3), stride=(1, 1), padding=(1, 1))\n",
       "    (1): LeakyReLU(negative_slope=0.1)\n",
       "  )\n",
       "  (conv_layer5): Sequential(\n",
       "    (0): Conv2d(384, 256, kernel_size=(3, 3), stride=(1, 1), padding=(1, 1))\n",
       "    (1): LeakyReLU(negative_slope=0.1)\n",
       "    (2): MaxPool2d(kernel_size=(3, 3), stride=2, padding=0, dilation=1, ceil_mode=False)\n",
       "  )\n",
       "  (FC): Sequential(\n",
       "    (0): Flatten(start_dim=1, end_dim=-1)\n",
       "    (1): Dropout(p=0.5, inplace=False)\n",
       "    (2): Linear(in_features=9216, out_features=4096, bias=True)\n",
       "    (3): ReLU()\n",
       "    (4): Dropout(p=0.5, inplace=False)\n",
       "    (5): Linear(in_features=4096, out_features=4096, bias=True)\n",
       "    (6): ReLU()\n",
       "    (7): Linear(in_features=4096, out_features=10, bias=True)\n",
       "  )\n",
       ")"
      ]
     },
     "execution_count": 4,
     "metadata": {},
     "output_type": "execute_result"
    }
   ],
   "source": [
    "class Alexnet(nn.Module):\n",
    "    def __init__(self , num_classes) :\n",
    "        super().__init__()\n",
    "        self.num_classes = num_classes\n",
    "\n",
    "        self.conv_layer1 = nn.Sequential(\n",
    "            nn.Conv2d(in_channels=3 , out_channels=96 , kernel_size=(11,11) , padding=0, stride=4),\n",
    "            nn.LeakyReLU(0.1),\n",
    "            nn.MaxPool2d(kernel_size=(3,3) , stride = 2),\n",
    "            nn.BatchNorm2d(96)\n",
    "        )\n",
    "\n",
    "        self.conv_layer2 = nn.Sequential(\n",
    "            nn.Conv2d(in_channels=96 , out_channels=256 , kernel_size=(5,5) , padding=2 , stride=1),\n",
    "            nn.LeakyReLU(0.1),\n",
    "            nn.MaxPool2d(kernel_size=(3,3) , stride=2),\n",
    "            nn.BatchNorm2d(256)\n",
    "        )\n",
    "\n",
    "        self.conv_layer3 = nn.Sequential(\n",
    "            nn.Conv2d(in_channels=256 , out_channels=384 , kernel_size=(3,3) , stride=1, padding=1),\n",
    "            nn.LeakyReLU(0.1)\n",
    "        )\n",
    "\n",
    "        self.conv_layer4 = nn.Sequential(\n",
    "            nn.Conv2d(in_channels=384, out_channels=384 , kernel_size=(3,3) , padding=1 , stride = 1),\n",
    "            nn.LeakyReLU(0.1)\n",
    "        )\n",
    "\n",
    "        self.conv_layer5 = nn.Sequential(\n",
    "            nn.Conv2d(in_channels=384 , out_channels=256 , kernel_size=(3,3) , padding=1 ,stride=1),\n",
    "            nn.LeakyReLU(0.1),\n",
    "            nn.MaxPool2d(kernel_size=(3,3) ,stride=2)\n",
    "        )\n",
    "\n",
    "        self.FC = nn.Sequential(\n",
    "            nn.Flatten(),\n",
    "            nn.Dropout(0.5),\n",
    "            nn.Linear(in_features=256*6*6 , out_features=4096),\n",
    "            nn.ReLU(),\n",
    "            nn.Dropout(0.5),\n",
    "            nn.Linear(in_features=4096 , out_features=4096),\n",
    "            nn.ReLU(),\n",
    "            nn.Linear(in_features=4096 , out_features=self.num_classes)\n",
    "        )\n",
    "\n",
    "    def forward(self,x):\n",
    "        x = self.conv_layer1(x)\n",
    "        x = self.conv_layer2(x)\n",
    "        x = self.conv_layer3(x)\n",
    "        x = self.conv_layer4(x)\n",
    "        x = self.conv_layer5(x)\n",
    "        x = self.FC(x)\n",
    "        return x\n",
    "    \n",
    "model = Alexnet(num_classes=10)\n",
    "model"
   ]
  },
  {
   "cell_type": "code",
   "execution_count": 5,
   "metadata": {},
   "outputs": [
    {
     "name": "stdout",
     "output_type": "stream",
     "text": [
      "torch.Size([1, 10])\n"
     ]
    }
   ],
   "source": [
    "x = torch.randn([1,3,227,227])\n",
    "print(model(x).shape)"
   ]
  },
  {
   "cell_type": "code",
   "execution_count": 6,
   "metadata": {},
   "outputs": [
    {
     "data": {
      "text/plain": [
       "==========================================================================================\n",
       "Layer (type:depth-idx)                   Output Shape              Param #\n",
       "==========================================================================================\n",
       "Alexnet                                  [1, 10]                   --\n",
       "├─Sequential: 1-1                        [1, 96, 27, 27]           --\n",
       "│    └─Conv2d: 2-1                       [1, 96, 55, 55]           34,944\n",
       "│    └─LeakyReLU: 2-2                    [1, 96, 55, 55]           --\n",
       "│    └─MaxPool2d: 2-3                    [1, 96, 27, 27]           --\n",
       "│    └─BatchNorm2d: 2-4                  [1, 96, 27, 27]           192\n",
       "├─Sequential: 1-2                        [1, 256, 13, 13]          --\n",
       "│    └─Conv2d: 2-5                       [1, 256, 27, 27]          614,656\n",
       "│    └─LeakyReLU: 2-6                    [1, 256, 27, 27]          --\n",
       "│    └─MaxPool2d: 2-7                    [1, 256, 13, 13]          --\n",
       "│    └─BatchNorm2d: 2-8                  [1, 256, 13, 13]          512\n",
       "├─Sequential: 1-3                        [1, 384, 13, 13]          --\n",
       "│    └─Conv2d: 2-9                       [1, 384, 13, 13]          885,120\n",
       "│    └─LeakyReLU: 2-10                   [1, 384, 13, 13]          --\n",
       "├─Sequential: 1-4                        [1, 384, 13, 13]          --\n",
       "│    └─Conv2d: 2-11                      [1, 384, 13, 13]          1,327,488\n",
       "│    └─LeakyReLU: 2-12                   [1, 384, 13, 13]          --\n",
       "├─Sequential: 1-5                        [1, 256, 6, 6]            --\n",
       "│    └─Conv2d: 2-13                      [1, 256, 13, 13]          884,992\n",
       "│    └─LeakyReLU: 2-14                   [1, 256, 13, 13]          --\n",
       "│    └─MaxPool2d: 2-15                   [1, 256, 6, 6]            --\n",
       "├─Sequential: 1-6                        [1, 10]                   --\n",
       "│    └─Flatten: 2-16                     [1, 9216]                 --\n",
       "│    └─Dropout: 2-17                     [1, 9216]                 --\n",
       "│    └─Linear: 2-18                      [1, 4096]                 37,752,832\n",
       "│    └─ReLU: 2-19                        [1, 4096]                 --\n",
       "│    └─Dropout: 2-20                     [1, 4096]                 --\n",
       "│    └─Linear: 2-21                      [1, 4096]                 16,781,312\n",
       "│    └─ReLU: 2-22                        [1, 4096]                 --\n",
       "│    └─Linear: 2-23                      [1, 10]                   40,970\n",
       "==========================================================================================\n",
       "Total params: 58,323,018\n",
       "Trainable params: 58,323,018\n",
       "Non-trainable params: 0\n",
       "Total mult-adds (Units.GIGABYTES): 1.13\n",
       "==========================================================================================\n",
       "Input size (MB): 0.62\n",
       "Forward/backward pass size (MB): 6.17\n",
       "Params size (MB): 233.29\n",
       "Estimated Total Size (MB): 240.08\n",
       "=========================================================================================="
      ]
     },
     "execution_count": 6,
     "metadata": {},
     "output_type": "execute_result"
    }
   ],
   "source": [
    "from torchinfo import summary\n",
    "summary(model, ( 1, 3, 227, 227))"
   ]
  },
  {
   "cell_type": "code",
   "execution_count": null,
   "metadata": {},
   "outputs": [],
   "source": []
  }
 ],
 "metadata": {
  "kernelspec": {
   "display_name": "Python 3",
   "language": "python",
   "name": "python3"
  },
  "language_info": {
   "codemirror_mode": {
    "name": "ipython",
    "version": 3
   },
   "file_extension": ".py",
   "mimetype": "text/x-python",
   "name": "python",
   "nbconvert_exporter": "python",
   "pygments_lexer": "ipython3",
   "version": "3.11.4"
  }
 },
 "nbformat": 4,
 "nbformat_minor": 2
}
